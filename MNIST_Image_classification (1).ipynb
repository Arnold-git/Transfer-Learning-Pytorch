{
  "nbformat": 4,
  "nbformat_minor": 0,
  "metadata": {
    "colab": {
      "name": "MNIST_Image_classification ",
      "provenance": []
    },
    "kernelspec": {
      "name": "python3",
      "display_name": "Python 3"
    },
    "accelerator": "GPU"
  },
  "cells": [
    {
      "cell_type": "code",
      "metadata": {
        "id": "bEmUZIcoCQ8_",
        "colab_type": "code",
        "outputId": "33405a6f-2188-4b13-b625-79b9afc15ff2",
        "colab": {
          "base_uri": "https://localhost:8080/",
          "height": 35
        }
      },
      "source": [
        "from google.colab import drive\n",
        "drive.mount('/content/drive', force_remount=True)"
      ],
      "execution_count": 0,
      "outputs": [
        {
          "output_type": "stream",
          "text": [
            "Mounted at /content/drive\n"
          ],
          "name": "stdout"
        }
      ]
    },
    {
      "cell_type": "code",
      "metadata": {
        "id": "A3-EJkPuCecr",
        "colab_type": "code",
        "colab": {}
      },
      "source": [
        "import pandas as pd\n",
        "import numpy as np\n",
        "import matplotlib.pyplot as plt"
      ],
      "execution_count": 0,
      "outputs": []
    },
    {
      "cell_type": "code",
      "metadata": {
        "id": "KC0okv2kESpX",
        "colab_type": "code",
        "outputId": "a37dcbfd-0ad4-476a-d5ef-476a9b2d139a",
        "colab": {
          "base_uri": "https://localhost:8080/",
          "height": 54
        }
      },
      "source": [
        "!unzip '/content/drive/My Drive/Colab Notebooks/datasets.zip'"
      ],
      "execution_count": 0,
      "outputs": [
        {
          "output_type": "stream",
          "text": [
            "Archive:  /content/drive/My Drive/Colab Notebooks/datasets.zip\n",
            "replace datasets/.DS_Store? [y]es, [n]o, [A]ll, [N]one, [r]ename: "
          ],
          "name": "stdout"
        }
      ]
    },
    {
      "cell_type": "code",
      "metadata": {
        "id": "lhJDSGIwDUFx",
        "colab_type": "code",
        "colab": {}
      },
      "source": [
        "mnist_train = pd.read_csv('/content/datasets/mnist-in-csv/mnist_train.csv')\n",
        "mnist_test = pd.read_csv('/content/datasets/mnist-in-csv/mnist_test.csv')"
      ],
      "execution_count": 0,
      "outputs": []
    },
    {
      "cell_type": "code",
      "metadata": {
        "id": "17nG6aVOD8pY",
        "colab_type": "code",
        "outputId": "504b2745-956e-4d31-f373-bdc08d47f431",
        "colab": {
          "base_uri": "https://localhost:8080/",
          "height": 247
        }
      },
      "source": [
        "mnist_train.head()"
      ],
      "execution_count": 0,
      "outputs": [
        {
          "output_type": "execute_result",
          "data": {
            "text/html": [
              "<div>\n",
              "<style scoped>\n",
              "    .dataframe tbody tr th:only-of-type {\n",
              "        vertical-align: middle;\n",
              "    }\n",
              "\n",
              "    .dataframe tbody tr th {\n",
              "        vertical-align: top;\n",
              "    }\n",
              "\n",
              "    .dataframe thead th {\n",
              "        text-align: right;\n",
              "    }\n",
              "</style>\n",
              "<table border=\"1\" class=\"dataframe\">\n",
              "  <thead>\n",
              "    <tr style=\"text-align: right;\">\n",
              "      <th></th>\n",
              "      <th>label</th>\n",
              "      <th>1x1</th>\n",
              "      <th>1x2</th>\n",
              "      <th>1x3</th>\n",
              "      <th>1x4</th>\n",
              "      <th>1x5</th>\n",
              "      <th>1x6</th>\n",
              "      <th>1x7</th>\n",
              "      <th>1x8</th>\n",
              "      <th>1x9</th>\n",
              "      <th>1x10</th>\n",
              "      <th>1x11</th>\n",
              "      <th>1x12</th>\n",
              "      <th>1x13</th>\n",
              "      <th>1x14</th>\n",
              "      <th>1x15</th>\n",
              "      <th>1x16</th>\n",
              "      <th>1x17</th>\n",
              "      <th>1x18</th>\n",
              "      <th>1x19</th>\n",
              "      <th>1x20</th>\n",
              "      <th>1x21</th>\n",
              "      <th>1x22</th>\n",
              "      <th>1x23</th>\n",
              "      <th>1x24</th>\n",
              "      <th>1x25</th>\n",
              "      <th>1x26</th>\n",
              "      <th>1x27</th>\n",
              "      <th>1x28</th>\n",
              "      <th>2x1</th>\n",
              "      <th>2x2</th>\n",
              "      <th>2x3</th>\n",
              "      <th>2x4</th>\n",
              "      <th>2x5</th>\n",
              "      <th>2x6</th>\n",
              "      <th>2x7</th>\n",
              "      <th>2x8</th>\n",
              "      <th>2x9</th>\n",
              "      <th>2x10</th>\n",
              "      <th>2x11</th>\n",
              "      <th>...</th>\n",
              "      <th>27x17</th>\n",
              "      <th>27x18</th>\n",
              "      <th>27x19</th>\n",
              "      <th>27x20</th>\n",
              "      <th>27x21</th>\n",
              "      <th>27x22</th>\n",
              "      <th>27x23</th>\n",
              "      <th>27x24</th>\n",
              "      <th>27x25</th>\n",
              "      <th>27x26</th>\n",
              "      <th>27x27</th>\n",
              "      <th>27x28</th>\n",
              "      <th>28x1</th>\n",
              "      <th>28x2</th>\n",
              "      <th>28x3</th>\n",
              "      <th>28x4</th>\n",
              "      <th>28x5</th>\n",
              "      <th>28x6</th>\n",
              "      <th>28x7</th>\n",
              "      <th>28x8</th>\n",
              "      <th>28x9</th>\n",
              "      <th>28x10</th>\n",
              "      <th>28x11</th>\n",
              "      <th>28x12</th>\n",
              "      <th>28x13</th>\n",
              "      <th>28x14</th>\n",
              "      <th>28x15</th>\n",
              "      <th>28x16</th>\n",
              "      <th>28x17</th>\n",
              "      <th>28x18</th>\n",
              "      <th>28x19</th>\n",
              "      <th>28x20</th>\n",
              "      <th>28x21</th>\n",
              "      <th>28x22</th>\n",
              "      <th>28x23</th>\n",
              "      <th>28x24</th>\n",
              "      <th>28x25</th>\n",
              "      <th>28x26</th>\n",
              "      <th>28x27</th>\n",
              "      <th>28x28</th>\n",
              "    </tr>\n",
              "  </thead>\n",
              "  <tbody>\n",
              "    <tr>\n",
              "      <th>0</th>\n",
              "      <td>5</td>\n",
              "      <td>0</td>\n",
              "      <td>0</td>\n",
              "      <td>0</td>\n",
              "      <td>0</td>\n",
              "      <td>0</td>\n",
              "      <td>0</td>\n",
              "      <td>0</td>\n",
              "      <td>0</td>\n",
              "      <td>0</td>\n",
              "      <td>0</td>\n",
              "      <td>0</td>\n",
              "      <td>0</td>\n",
              "      <td>0</td>\n",
              "      <td>0</td>\n",
              "      <td>0</td>\n",
              "      <td>0</td>\n",
              "      <td>0</td>\n",
              "      <td>0</td>\n",
              "      <td>0</td>\n",
              "      <td>0</td>\n",
              "      <td>0</td>\n",
              "      <td>0</td>\n",
              "      <td>0</td>\n",
              "      <td>0</td>\n",
              "      <td>0</td>\n",
              "      <td>0</td>\n",
              "      <td>0</td>\n",
              "      <td>0</td>\n",
              "      <td>0</td>\n",
              "      <td>0</td>\n",
              "      <td>0</td>\n",
              "      <td>0</td>\n",
              "      <td>0</td>\n",
              "      <td>0</td>\n",
              "      <td>0</td>\n",
              "      <td>0</td>\n",
              "      <td>0</td>\n",
              "      <td>0</td>\n",
              "      <td>0</td>\n",
              "      <td>...</td>\n",
              "      <td>0</td>\n",
              "      <td>0</td>\n",
              "      <td>0</td>\n",
              "      <td>0</td>\n",
              "      <td>0</td>\n",
              "      <td>0</td>\n",
              "      <td>0</td>\n",
              "      <td>0</td>\n",
              "      <td>0</td>\n",
              "      <td>0</td>\n",
              "      <td>0</td>\n",
              "      <td>0</td>\n",
              "      <td>0</td>\n",
              "      <td>0</td>\n",
              "      <td>0</td>\n",
              "      <td>0</td>\n",
              "      <td>0</td>\n",
              "      <td>0</td>\n",
              "      <td>0</td>\n",
              "      <td>0</td>\n",
              "      <td>0</td>\n",
              "      <td>0</td>\n",
              "      <td>0</td>\n",
              "      <td>0</td>\n",
              "      <td>0</td>\n",
              "      <td>0</td>\n",
              "      <td>0</td>\n",
              "      <td>0</td>\n",
              "      <td>0</td>\n",
              "      <td>0</td>\n",
              "      <td>0</td>\n",
              "      <td>0</td>\n",
              "      <td>0</td>\n",
              "      <td>0</td>\n",
              "      <td>0</td>\n",
              "      <td>0</td>\n",
              "      <td>0</td>\n",
              "      <td>0</td>\n",
              "      <td>0</td>\n",
              "      <td>0</td>\n",
              "    </tr>\n",
              "    <tr>\n",
              "      <th>1</th>\n",
              "      <td>0</td>\n",
              "      <td>0</td>\n",
              "      <td>0</td>\n",
              "      <td>0</td>\n",
              "      <td>0</td>\n",
              "      <td>0</td>\n",
              "      <td>0</td>\n",
              "      <td>0</td>\n",
              "      <td>0</td>\n",
              "      <td>0</td>\n",
              "      <td>0</td>\n",
              "      <td>0</td>\n",
              "      <td>0</td>\n",
              "      <td>0</td>\n",
              "      <td>0</td>\n",
              "      <td>0</td>\n",
              "      <td>0</td>\n",
              "      <td>0</td>\n",
              "      <td>0</td>\n",
              "      <td>0</td>\n",
              "      <td>0</td>\n",
              "      <td>0</td>\n",
              "      <td>0</td>\n",
              "      <td>0</td>\n",
              "      <td>0</td>\n",
              "      <td>0</td>\n",
              "      <td>0</td>\n",
              "      <td>0</td>\n",
              "      <td>0</td>\n",
              "      <td>0</td>\n",
              "      <td>0</td>\n",
              "      <td>0</td>\n",
              "      <td>0</td>\n",
              "      <td>0</td>\n",
              "      <td>0</td>\n",
              "      <td>0</td>\n",
              "      <td>0</td>\n",
              "      <td>0</td>\n",
              "      <td>0</td>\n",
              "      <td>0</td>\n",
              "      <td>...</td>\n",
              "      <td>0</td>\n",
              "      <td>0</td>\n",
              "      <td>0</td>\n",
              "      <td>0</td>\n",
              "      <td>0</td>\n",
              "      <td>0</td>\n",
              "      <td>0</td>\n",
              "      <td>0</td>\n",
              "      <td>0</td>\n",
              "      <td>0</td>\n",
              "      <td>0</td>\n",
              "      <td>0</td>\n",
              "      <td>0</td>\n",
              "      <td>0</td>\n",
              "      <td>0</td>\n",
              "      <td>0</td>\n",
              "      <td>0</td>\n",
              "      <td>0</td>\n",
              "      <td>0</td>\n",
              "      <td>0</td>\n",
              "      <td>0</td>\n",
              "      <td>0</td>\n",
              "      <td>0</td>\n",
              "      <td>0</td>\n",
              "      <td>0</td>\n",
              "      <td>0</td>\n",
              "      <td>0</td>\n",
              "      <td>0</td>\n",
              "      <td>0</td>\n",
              "      <td>0</td>\n",
              "      <td>0</td>\n",
              "      <td>0</td>\n",
              "      <td>0</td>\n",
              "      <td>0</td>\n",
              "      <td>0</td>\n",
              "      <td>0</td>\n",
              "      <td>0</td>\n",
              "      <td>0</td>\n",
              "      <td>0</td>\n",
              "      <td>0</td>\n",
              "    </tr>\n",
              "    <tr>\n",
              "      <th>2</th>\n",
              "      <td>4</td>\n",
              "      <td>0</td>\n",
              "      <td>0</td>\n",
              "      <td>0</td>\n",
              "      <td>0</td>\n",
              "      <td>0</td>\n",
              "      <td>0</td>\n",
              "      <td>0</td>\n",
              "      <td>0</td>\n",
              "      <td>0</td>\n",
              "      <td>0</td>\n",
              "      <td>0</td>\n",
              "      <td>0</td>\n",
              "      <td>0</td>\n",
              "      <td>0</td>\n",
              "      <td>0</td>\n",
              "      <td>0</td>\n",
              "      <td>0</td>\n",
              "      <td>0</td>\n",
              "      <td>0</td>\n",
              "      <td>0</td>\n",
              "      <td>0</td>\n",
              "      <td>0</td>\n",
              "      <td>0</td>\n",
              "      <td>0</td>\n",
              "      <td>0</td>\n",
              "      <td>0</td>\n",
              "      <td>0</td>\n",
              "      <td>0</td>\n",
              "      <td>0</td>\n",
              "      <td>0</td>\n",
              "      <td>0</td>\n",
              "      <td>0</td>\n",
              "      <td>0</td>\n",
              "      <td>0</td>\n",
              "      <td>0</td>\n",
              "      <td>0</td>\n",
              "      <td>0</td>\n",
              "      <td>0</td>\n",
              "      <td>0</td>\n",
              "      <td>...</td>\n",
              "      <td>0</td>\n",
              "      <td>0</td>\n",
              "      <td>0</td>\n",
              "      <td>0</td>\n",
              "      <td>0</td>\n",
              "      <td>0</td>\n",
              "      <td>0</td>\n",
              "      <td>0</td>\n",
              "      <td>0</td>\n",
              "      <td>0</td>\n",
              "      <td>0</td>\n",
              "      <td>0</td>\n",
              "      <td>0</td>\n",
              "      <td>0</td>\n",
              "      <td>0</td>\n",
              "      <td>0</td>\n",
              "      <td>0</td>\n",
              "      <td>0</td>\n",
              "      <td>0</td>\n",
              "      <td>0</td>\n",
              "      <td>0</td>\n",
              "      <td>0</td>\n",
              "      <td>0</td>\n",
              "      <td>0</td>\n",
              "      <td>0</td>\n",
              "      <td>0</td>\n",
              "      <td>0</td>\n",
              "      <td>0</td>\n",
              "      <td>0</td>\n",
              "      <td>0</td>\n",
              "      <td>0</td>\n",
              "      <td>0</td>\n",
              "      <td>0</td>\n",
              "      <td>0</td>\n",
              "      <td>0</td>\n",
              "      <td>0</td>\n",
              "      <td>0</td>\n",
              "      <td>0</td>\n",
              "      <td>0</td>\n",
              "      <td>0</td>\n",
              "    </tr>\n",
              "    <tr>\n",
              "      <th>3</th>\n",
              "      <td>1</td>\n",
              "      <td>0</td>\n",
              "      <td>0</td>\n",
              "      <td>0</td>\n",
              "      <td>0</td>\n",
              "      <td>0</td>\n",
              "      <td>0</td>\n",
              "      <td>0</td>\n",
              "      <td>0</td>\n",
              "      <td>0</td>\n",
              "      <td>0</td>\n",
              "      <td>0</td>\n",
              "      <td>0</td>\n",
              "      <td>0</td>\n",
              "      <td>0</td>\n",
              "      <td>0</td>\n",
              "      <td>0</td>\n",
              "      <td>0</td>\n",
              "      <td>0</td>\n",
              "      <td>0</td>\n",
              "      <td>0</td>\n",
              "      <td>0</td>\n",
              "      <td>0</td>\n",
              "      <td>0</td>\n",
              "      <td>0</td>\n",
              "      <td>0</td>\n",
              "      <td>0</td>\n",
              "      <td>0</td>\n",
              "      <td>0</td>\n",
              "      <td>0</td>\n",
              "      <td>0</td>\n",
              "      <td>0</td>\n",
              "      <td>0</td>\n",
              "      <td>0</td>\n",
              "      <td>0</td>\n",
              "      <td>0</td>\n",
              "      <td>0</td>\n",
              "      <td>0</td>\n",
              "      <td>0</td>\n",
              "      <td>0</td>\n",
              "      <td>...</td>\n",
              "      <td>0</td>\n",
              "      <td>0</td>\n",
              "      <td>0</td>\n",
              "      <td>0</td>\n",
              "      <td>0</td>\n",
              "      <td>0</td>\n",
              "      <td>0</td>\n",
              "      <td>0</td>\n",
              "      <td>0</td>\n",
              "      <td>0</td>\n",
              "      <td>0</td>\n",
              "      <td>0</td>\n",
              "      <td>0</td>\n",
              "      <td>0</td>\n",
              "      <td>0</td>\n",
              "      <td>0</td>\n",
              "      <td>0</td>\n",
              "      <td>0</td>\n",
              "      <td>0</td>\n",
              "      <td>0</td>\n",
              "      <td>0</td>\n",
              "      <td>0</td>\n",
              "      <td>0</td>\n",
              "      <td>0</td>\n",
              "      <td>0</td>\n",
              "      <td>0</td>\n",
              "      <td>0</td>\n",
              "      <td>0</td>\n",
              "      <td>0</td>\n",
              "      <td>0</td>\n",
              "      <td>0</td>\n",
              "      <td>0</td>\n",
              "      <td>0</td>\n",
              "      <td>0</td>\n",
              "      <td>0</td>\n",
              "      <td>0</td>\n",
              "      <td>0</td>\n",
              "      <td>0</td>\n",
              "      <td>0</td>\n",
              "      <td>0</td>\n",
              "    </tr>\n",
              "    <tr>\n",
              "      <th>4</th>\n",
              "      <td>9</td>\n",
              "      <td>0</td>\n",
              "      <td>0</td>\n",
              "      <td>0</td>\n",
              "      <td>0</td>\n",
              "      <td>0</td>\n",
              "      <td>0</td>\n",
              "      <td>0</td>\n",
              "      <td>0</td>\n",
              "      <td>0</td>\n",
              "      <td>0</td>\n",
              "      <td>0</td>\n",
              "      <td>0</td>\n",
              "      <td>0</td>\n",
              "      <td>0</td>\n",
              "      <td>0</td>\n",
              "      <td>0</td>\n",
              "      <td>0</td>\n",
              "      <td>0</td>\n",
              "      <td>0</td>\n",
              "      <td>0</td>\n",
              "      <td>0</td>\n",
              "      <td>0</td>\n",
              "      <td>0</td>\n",
              "      <td>0</td>\n",
              "      <td>0</td>\n",
              "      <td>0</td>\n",
              "      <td>0</td>\n",
              "      <td>0</td>\n",
              "      <td>0</td>\n",
              "      <td>0</td>\n",
              "      <td>0</td>\n",
              "      <td>0</td>\n",
              "      <td>0</td>\n",
              "      <td>0</td>\n",
              "      <td>0</td>\n",
              "      <td>0</td>\n",
              "      <td>0</td>\n",
              "      <td>0</td>\n",
              "      <td>0</td>\n",
              "      <td>...</td>\n",
              "      <td>147</td>\n",
              "      <td>252</td>\n",
              "      <td>42</td>\n",
              "      <td>0</td>\n",
              "      <td>0</td>\n",
              "      <td>0</td>\n",
              "      <td>0</td>\n",
              "      <td>0</td>\n",
              "      <td>0</td>\n",
              "      <td>0</td>\n",
              "      <td>0</td>\n",
              "      <td>0</td>\n",
              "      <td>0</td>\n",
              "      <td>0</td>\n",
              "      <td>0</td>\n",
              "      <td>0</td>\n",
              "      <td>0</td>\n",
              "      <td>0</td>\n",
              "      <td>0</td>\n",
              "      <td>0</td>\n",
              "      <td>0</td>\n",
              "      <td>0</td>\n",
              "      <td>0</td>\n",
              "      <td>0</td>\n",
              "      <td>0</td>\n",
              "      <td>0</td>\n",
              "      <td>0</td>\n",
              "      <td>0</td>\n",
              "      <td>0</td>\n",
              "      <td>0</td>\n",
              "      <td>0</td>\n",
              "      <td>0</td>\n",
              "      <td>0</td>\n",
              "      <td>0</td>\n",
              "      <td>0</td>\n",
              "      <td>0</td>\n",
              "      <td>0</td>\n",
              "      <td>0</td>\n",
              "      <td>0</td>\n",
              "      <td>0</td>\n",
              "    </tr>\n",
              "  </tbody>\n",
              "</table>\n",
              "<p>5 rows × 785 columns</p>\n",
              "</div>"
            ],
            "text/plain": [
              "   label  1x1  1x2  1x3  1x4  1x5  ...  28x23  28x24  28x25  28x26  28x27  28x28\n",
              "0      5    0    0    0    0    0  ...      0      0      0      0      0      0\n",
              "1      0    0    0    0    0    0  ...      0      0      0      0      0      0\n",
              "2      4    0    0    0    0    0  ...      0      0      0      0      0      0\n",
              "3      1    0    0    0    0    0  ...      0      0      0      0      0      0\n",
              "4      9    0    0    0    0    0  ...      0      0      0      0      0      0\n",
              "\n",
              "[5 rows x 785 columns]"
            ]
          },
          "metadata": {
            "tags": []
          },
          "execution_count": 5
        }
      ]
    },
    {
      "cell_type": "code",
      "metadata": {
        "id": "dfUdWKy5EBHs",
        "colab_type": "code",
        "colab": {}
      },
      "source": [
        "img = mnist_train[1:2]\n",
        "\n",
        "img = img.drop('label', axis = 1)"
      ],
      "execution_count": 0,
      "outputs": []
    },
    {
      "cell_type": "code",
      "metadata": {
        "id": "ec9P-OazFaEx",
        "colab_type": "code",
        "outputId": "f18334e2-e408-462c-8f47-5c92bd55953b",
        "colab": {
          "base_uri": "https://localhost:8080/",
          "height": 35
        }
      },
      "source": [
        "img = img.values\n",
        "\n",
        "img.shape"
      ],
      "execution_count": 0,
      "outputs": [
        {
          "output_type": "execute_result",
          "data": {
            "text/plain": [
              "(1, 784)"
            ]
          },
          "metadata": {
            "tags": []
          },
          "execution_count": 7
        }
      ]
    },
    {
      "cell_type": "code",
      "metadata": {
        "id": "9dXCSU2_GEdZ",
        "colab_type": "code",
        "outputId": "7b1d7390-96cf-4a49-fb04-efe6b537e4b7",
        "colab": {
          "base_uri": "https://localhost:8080/",
          "height": 35
        }
      },
      "source": [
        "img = img.reshape(1, 28, 28)\n",
        "\n",
        "img.shape"
      ],
      "execution_count": 0,
      "outputs": [
        {
          "output_type": "execute_result",
          "data": {
            "text/plain": [
              "(1, 28, 28)"
            ]
          },
          "metadata": {
            "tags": []
          },
          "execution_count": 8
        }
      ]
    },
    {
      "cell_type": "code",
      "metadata": {
        "id": "3CfsYIWjGM8E",
        "colab_type": "code",
        "outputId": "84bef39b-a658-4c68-92ab-102dcd350157",
        "colab": {
          "base_uri": "https://localhost:8080/",
          "height": 35
        }
      },
      "source": [
        "img = img.squeeze()\n",
        "\n",
        "img.shape"
      ],
      "execution_count": 0,
      "outputs": [
        {
          "output_type": "execute_result",
          "data": {
            "text/plain": [
              "(28, 28)"
            ]
          },
          "metadata": {
            "tags": []
          },
          "execution_count": 9
        }
      ]
    },
    {
      "cell_type": "code",
      "metadata": {
        "id": "RtQOxXumGasC",
        "colab_type": "code",
        "outputId": "57e7a32b-9618-4a51-fb14-80443d4a852e",
        "colab": {
          "base_uri": "https://localhost:8080/",
          "height": 392
        }
      },
      "source": [
        "plt.figure(figsize = (6, 6))\n",
        "\n",
        "plt.imshow(img)"
      ],
      "execution_count": 0,
      "outputs": [
        {
          "output_type": "execute_result",
          "data": {
            "text/plain": [
              "<matplotlib.image.AxesImage at 0x7f8e050a7c18>"
            ]
          },
          "metadata": {
            "tags": []
          },
          "execution_count": 10
        },
        {
          "output_type": "display_data",
          "data": {
            "image/png": "[encoded data removed]",
            "text/plain": [
              "<Figure size 432x432 with 1 Axes>"
            ]
          },
          "metadata": {
            "tags": [],
            "needs_background": "light"
          }
        }
      ]
    },
    {
      "cell_type": "code",
      "metadata": {
        "id": "VcgRmbZtG5qv",
        "colab_type": "code",
        "outputId": "59dd3042-5b7e-4865-d685-8f0573b83e11",
        "colab": {
          "base_uri": "https://localhost:8080/",
          "height": 235
        }
      },
      "source": [
        "mnist_train.isna().any()"
      ],
      "execution_count": 0,
      "outputs": [
        {
          "output_type": "execute_result",
          "data": {
            "text/plain": [
              "label    False\n",
              "1x1      False\n",
              "1x2      False\n",
              "1x3      False\n",
              "1x4      False\n",
              "         ...  \n",
              "28x24    False\n",
              "28x25    False\n",
              "28x26    False\n",
              "28x27    False\n",
              "28x28    False\n",
              "Length: 785, dtype: bool"
            ]
          },
          "metadata": {
            "tags": []
          },
          "execution_count": 11
        }
      ]
    },
    {
      "cell_type": "code",
      "metadata": {
        "id": "k4FTs_nUHAzo",
        "colab_type": "code",
        "colab": {}
      },
      "source": [
        "mnist_train = mnist_train.dropna()\n",
        "mnist_test = mnist_test.dropna()"
      ],
      "execution_count": 0,
      "outputs": []
    },
    {
      "cell_type": "code",
      "metadata": {
        "id": "kiXUcmanHiLL",
        "colab_type": "code",
        "colab": {}
      },
      "source": [
        "mnist_train_features = mnist_train.drop('label', axis = 1)\n",
        "mnist_train_target = mnist_train['label']\n",
        "\n",
        "mnist_test_features = mnist_test.drop('label', axis = 1)\n",
        "mnist_test_target = mnist_test['label']\n"
      ],
      "execution_count": 0,
      "outputs": []
    },
    {
      "cell_type": "code",
      "metadata": {
        "id": "37VFizWMInqo",
        "colab_type": "code",
        "outputId": "b195c48a-0a6c-4eba-a4a5-15e290775f83",
        "colab": {
          "base_uri": "https://localhost:8080/",
          "height": 247
        }
      },
      "source": [
        "mnist_train_features.head()"
      ],
      "execution_count": 0,
      "outputs": [
        {
          "output_type": "execute_result",
          "data": {
            "text/html": [
              "<div>\n",
              "<style scoped>\n",
              "    .dataframe tbody tr th:only-of-type {\n",
              "        vertical-align: middle;\n",
              "    }\n",
              "\n",
              "    .dataframe tbody tr th {\n",
              "        vertical-align: top;\n",
              "    }\n",
              "\n",
              "    .dataframe thead th {\n",
              "        text-align: right;\n",
              "    }\n",
              "</style>\n",
              "<table border=\"1\" class=\"dataframe\">\n",
              "  <thead>\n",
              "    <tr style=\"text-align: right;\">\n",
              "      <th></th>\n",
              "      <th>1x1</th>\n",
              "      <th>1x2</th>\n",
              "      <th>1x3</th>\n",
              "      <th>1x4</th>\n",
              "      <th>1x5</th>\n",
              "      <th>1x6</th>\n",
              "      <th>1x7</th>\n",
              "      <th>1x8</th>\n",
              "      <th>1x9</th>\n",
              "      <th>1x10</th>\n",
              "      <th>1x11</th>\n",
              "      <th>1x12</th>\n",
              "      <th>1x13</th>\n",
              "      <th>1x14</th>\n",
              "      <th>1x15</th>\n",
              "      <th>1x16</th>\n",
              "      <th>1x17</th>\n",
              "      <th>1x18</th>\n",
              "      <th>1x19</th>\n",
              "      <th>1x20</th>\n",
              "      <th>1x21</th>\n",
              "      <th>1x22</th>\n",
              "      <th>1x23</th>\n",
              "      <th>1x24</th>\n",
              "      <th>1x25</th>\n",
              "      <th>1x26</th>\n",
              "      <th>1x27</th>\n",
              "      <th>1x28</th>\n",
              "      <th>2x1</th>\n",
              "      <th>2x2</th>\n",
              "      <th>2x3</th>\n",
              "      <th>2x4</th>\n",
              "      <th>2x5</th>\n",
              "      <th>2x6</th>\n",
              "      <th>2x7</th>\n",
              "      <th>2x8</th>\n",
              "      <th>2x9</th>\n",
              "      <th>2x10</th>\n",
              "      <th>2x11</th>\n",
              "      <th>2x12</th>\n",
              "      <th>...</th>\n",
              "      <th>27x17</th>\n",
              "      <th>27x18</th>\n",
              "      <th>27x19</th>\n",
              "      <th>27x20</th>\n",
              "      <th>27x21</th>\n",
              "      <th>27x22</th>\n",
              "      <th>27x23</th>\n",
              "      <th>27x24</th>\n",
              "      <th>27x25</th>\n",
              "      <th>27x26</th>\n",
              "      <th>27x27</th>\n",
              "      <th>27x28</th>\n",
              "      <th>28x1</th>\n",
              "      <th>28x2</th>\n",
              "      <th>28x3</th>\n",
              "      <th>28x4</th>\n",
              "      <th>28x5</th>\n",
              "      <th>28x6</th>\n",
              "      <th>28x7</th>\n",
              "      <th>28x8</th>\n",
              "      <th>28x9</th>\n",
              "      <th>28x10</th>\n",
              "      <th>28x11</th>\n",
              "      <th>28x12</th>\n",
              "      <th>28x13</th>\n",
              "      <th>28x14</th>\n",
              "      <th>28x15</th>\n",
              "      <th>28x16</th>\n",
              "      <th>28x17</th>\n",
              "      <th>28x18</th>\n",
              "      <th>28x19</th>\n",
              "      <th>28x20</th>\n",
              "      <th>28x21</th>\n",
              "      <th>28x22</th>\n",
              "      <th>28x23</th>\n",
              "      <th>28x24</th>\n",
              "      <th>28x25</th>\n",
              "      <th>28x26</th>\n",
              "      <th>28x27</th>\n",
              "      <th>28x28</th>\n",
              "    </tr>\n",
              "  </thead>\n",
              "  <tbody>\n",
              "    <tr>\n",
              "      <th>0</th>\n",
              "      <td>0</td>\n",
              "      <td>0</td>\n",
              "      <td>0</td>\n",
              "      <td>0</td>\n",
              "      <td>0</td>\n",
              "      <td>0</td>\n",
              "      <td>0</td>\n",
              "      <td>0</td>\n",
              "      <td>0</td>\n",
              "      <td>0</td>\n",
              "      <td>0</td>\n",
              "      <td>0</td>\n",
              "      <td>0</td>\n",
              "      <td>0</td>\n",
              "      <td>0</td>\n",
              "      <td>0</td>\n",
              "      <td>0</td>\n",
              "      <td>0</td>\n",
              "      <td>0</td>\n",
              "      <td>0</td>\n",
              "      <td>0</td>\n",
              "      <td>0</td>\n",
              "      <td>0</td>\n",
              "      <td>0</td>\n",
              "      <td>0</td>\n",
              "      <td>0</td>\n",
              "      <td>0</td>\n",
              "      <td>0</td>\n",
              "      <td>0</td>\n",
              "      <td>0</td>\n",
              "      <td>0</td>\n",
              "      <td>0</td>\n",
              "      <td>0</td>\n",
              "      <td>0</td>\n",
              "      <td>0</td>\n",
              "      <td>0</td>\n",
              "      <td>0</td>\n",
              "      <td>0</td>\n",
              "      <td>0</td>\n",
              "      <td>0</td>\n",
              "      <td>...</td>\n",
              "      <td>0</td>\n",
              "      <td>0</td>\n",
              "      <td>0</td>\n",
              "      <td>0</td>\n",
              "      <td>0</td>\n",
              "      <td>0</td>\n",
              "      <td>0</td>\n",
              "      <td>0</td>\n",
              "      <td>0</td>\n",
              "      <td>0</td>\n",
              "      <td>0</td>\n",
              "      <td>0</td>\n",
              "      <td>0</td>\n",
              "      <td>0</td>\n",
              "      <td>0</td>\n",
              "      <td>0</td>\n",
              "      <td>0</td>\n",
              "      <td>0</td>\n",
              "      <td>0</td>\n",
              "      <td>0</td>\n",
              "      <td>0</td>\n",
              "      <td>0</td>\n",
              "      <td>0</td>\n",
              "      <td>0</td>\n",
              "      <td>0</td>\n",
              "      <td>0</td>\n",
              "      <td>0</td>\n",
              "      <td>0</td>\n",
              "      <td>0</td>\n",
              "      <td>0</td>\n",
              "      <td>0</td>\n",
              "      <td>0</td>\n",
              "      <td>0</td>\n",
              "      <td>0</td>\n",
              "      <td>0</td>\n",
              "      <td>0</td>\n",
              "      <td>0</td>\n",
              "      <td>0</td>\n",
              "      <td>0</td>\n",
              "      <td>0</td>\n",
              "    </tr>\n",
              "    <tr>\n",
              "      <th>1</th>\n",
              "      <td>0</td>\n",
              "      <td>0</td>\n",
              "      <td>0</td>\n",
              "      <td>0</td>\n",
              "      <td>0</td>\n",
              "      <td>0</td>\n",
              "      <td>0</td>\n",
              "      <td>0</td>\n",
              "      <td>0</td>\n",
              "      <td>0</td>\n",
              "      <td>0</td>\n",
              "      <td>0</td>\n",
              "      <td>0</td>\n",
              "      <td>0</td>\n",
              "      <td>0</td>\n",
              "      <td>0</td>\n",
              "      <td>0</td>\n",
              "      <td>0</td>\n",
              "      <td>0</td>\n",
              "      <td>0</td>\n",
              "      <td>0</td>\n",
              "      <td>0</td>\n",
              "      <td>0</td>\n",
              "      <td>0</td>\n",
              "      <td>0</td>\n",
              "      <td>0</td>\n",
              "      <td>0</td>\n",
              "      <td>0</td>\n",
              "      <td>0</td>\n",
              "      <td>0</td>\n",
              "      <td>0</td>\n",
              "      <td>0</td>\n",
              "      <td>0</td>\n",
              "      <td>0</td>\n",
              "      <td>0</td>\n",
              "      <td>0</td>\n",
              "      <td>0</td>\n",
              "      <td>0</td>\n",
              "      <td>0</td>\n",
              "      <td>0</td>\n",
              "      <td>...</td>\n",
              "      <td>0</td>\n",
              "      <td>0</td>\n",
              "      <td>0</td>\n",
              "      <td>0</td>\n",
              "      <td>0</td>\n",
              "      <td>0</td>\n",
              "      <td>0</td>\n",
              "      <td>0</td>\n",
              "      <td>0</td>\n",
              "      <td>0</td>\n",
              "      <td>0</td>\n",
              "      <td>0</td>\n",
              "      <td>0</td>\n",
              "      <td>0</td>\n",
              "      <td>0</td>\n",
              "      <td>0</td>\n",
              "      <td>0</td>\n",
              "      <td>0</td>\n",
              "      <td>0</td>\n",
              "      <td>0</td>\n",
              "      <td>0</td>\n",
              "      <td>0</td>\n",
              "      <td>0</td>\n",
              "      <td>0</td>\n",
              "      <td>0</td>\n",
              "      <td>0</td>\n",
              "      <td>0</td>\n",
              "      <td>0</td>\n",
              "      <td>0</td>\n",
              "      <td>0</td>\n",
              "      <td>0</td>\n",
              "      <td>0</td>\n",
              "      <td>0</td>\n",
              "      <td>0</td>\n",
              "      <td>0</td>\n",
              "      <td>0</td>\n",
              "      <td>0</td>\n",
              "      <td>0</td>\n",
              "      <td>0</td>\n",
              "      <td>0</td>\n",
              "    </tr>\n",
              "    <tr>\n",
              "      <th>2</th>\n",
              "      <td>0</td>\n",
              "      <td>0</td>\n",
              "      <td>0</td>\n",
              "      <td>0</td>\n",
              "      <td>0</td>\n",
              "      <td>0</td>\n",
              "      <td>0</td>\n",
              "      <td>0</td>\n",
              "      <td>0</td>\n",
              "      <td>0</td>\n",
              "      <td>0</td>\n",
              "      <td>0</td>\n",
              "      <td>0</td>\n",
              "      <td>0</td>\n",
              "      <td>0</td>\n",
              "      <td>0</td>\n",
              "      <td>0</td>\n",
              "      <td>0</td>\n",
              "      <td>0</td>\n",
              "      <td>0</td>\n",
              "      <td>0</td>\n",
              "      <td>0</td>\n",
              "      <td>0</td>\n",
              "      <td>0</td>\n",
              "      <td>0</td>\n",
              "      <td>0</td>\n",
              "      <td>0</td>\n",
              "      <td>0</td>\n",
              "      <td>0</td>\n",
              "      <td>0</td>\n",
              "      <td>0</td>\n",
              "      <td>0</td>\n",
              "      <td>0</td>\n",
              "      <td>0</td>\n",
              "      <td>0</td>\n",
              "      <td>0</td>\n",
              "      <td>0</td>\n",
              "      <td>0</td>\n",
              "      <td>0</td>\n",
              "      <td>0</td>\n",
              "      <td>...</td>\n",
              "      <td>0</td>\n",
              "      <td>0</td>\n",
              "      <td>0</td>\n",
              "      <td>0</td>\n",
              "      <td>0</td>\n",
              "      <td>0</td>\n",
              "      <td>0</td>\n",
              "      <td>0</td>\n",
              "      <td>0</td>\n",
              "      <td>0</td>\n",
              "      <td>0</td>\n",
              "      <td>0</td>\n",
              "      <td>0</td>\n",
              "      <td>0</td>\n",
              "      <td>0</td>\n",
              "      <td>0</td>\n",
              "      <td>0</td>\n",
              "      <td>0</td>\n",
              "      <td>0</td>\n",
              "      <td>0</td>\n",
              "      <td>0</td>\n",
              "      <td>0</td>\n",
              "      <td>0</td>\n",
              "      <td>0</td>\n",
              "      <td>0</td>\n",
              "      <td>0</td>\n",
              "      <td>0</td>\n",
              "      <td>0</td>\n",
              "      <td>0</td>\n",
              "      <td>0</td>\n",
              "      <td>0</td>\n",
              "      <td>0</td>\n",
              "      <td>0</td>\n",
              "      <td>0</td>\n",
              "      <td>0</td>\n",
              "      <td>0</td>\n",
              "      <td>0</td>\n",
              "      <td>0</td>\n",
              "      <td>0</td>\n",
              "      <td>0</td>\n",
              "    </tr>\n",
              "    <tr>\n",
              "      <th>3</th>\n",
              "      <td>0</td>\n",
              "      <td>0</td>\n",
              "      <td>0</td>\n",
              "      <td>0</td>\n",
              "      <td>0</td>\n",
              "      <td>0</td>\n",
              "      <td>0</td>\n",
              "      <td>0</td>\n",
              "      <td>0</td>\n",
              "      <td>0</td>\n",
              "      <td>0</td>\n",
              "      <td>0</td>\n",
              "      <td>0</td>\n",
              "      <td>0</td>\n",
              "      <td>0</td>\n",
              "      <td>0</td>\n",
              "      <td>0</td>\n",
              "      <td>0</td>\n",
              "      <td>0</td>\n",
              "      <td>0</td>\n",
              "      <td>0</td>\n",
              "      <td>0</td>\n",
              "      <td>0</td>\n",
              "      <td>0</td>\n",
              "      <td>0</td>\n",
              "      <td>0</td>\n",
              "      <td>0</td>\n",
              "      <td>0</td>\n",
              "      <td>0</td>\n",
              "      <td>0</td>\n",
              "      <td>0</td>\n",
              "      <td>0</td>\n",
              "      <td>0</td>\n",
              "      <td>0</td>\n",
              "      <td>0</td>\n",
              "      <td>0</td>\n",
              "      <td>0</td>\n",
              "      <td>0</td>\n",
              "      <td>0</td>\n",
              "      <td>0</td>\n",
              "      <td>...</td>\n",
              "      <td>0</td>\n",
              "      <td>0</td>\n",
              "      <td>0</td>\n",
              "      <td>0</td>\n",
              "      <td>0</td>\n",
              "      <td>0</td>\n",
              "      <td>0</td>\n",
              "      <td>0</td>\n",
              "      <td>0</td>\n",
              "      <td>0</td>\n",
              "      <td>0</td>\n",
              "      <td>0</td>\n",
              "      <td>0</td>\n",
              "      <td>0</td>\n",
              "      <td>0</td>\n",
              "      <td>0</td>\n",
              "      <td>0</td>\n",
              "      <td>0</td>\n",
              "      <td>0</td>\n",
              "      <td>0</td>\n",
              "      <td>0</td>\n",
              "      <td>0</td>\n",
              "      <td>0</td>\n",
              "      <td>0</td>\n",
              "      <td>0</td>\n",
              "      <td>0</td>\n",
              "      <td>0</td>\n",
              "      <td>0</td>\n",
              "      <td>0</td>\n",
              "      <td>0</td>\n",
              "      <td>0</td>\n",
              "      <td>0</td>\n",
              "      <td>0</td>\n",
              "      <td>0</td>\n",
              "      <td>0</td>\n",
              "      <td>0</td>\n",
              "      <td>0</td>\n",
              "      <td>0</td>\n",
              "      <td>0</td>\n",
              "      <td>0</td>\n",
              "    </tr>\n",
              "    <tr>\n",
              "      <th>4</th>\n",
              "      <td>0</td>\n",
              "      <td>0</td>\n",
              "      <td>0</td>\n",
              "      <td>0</td>\n",
              "      <td>0</td>\n",
              "      <td>0</td>\n",
              "      <td>0</td>\n",
              "      <td>0</td>\n",
              "      <td>0</td>\n",
              "      <td>0</td>\n",
              "      <td>0</td>\n",
              "      <td>0</td>\n",
              "      <td>0</td>\n",
              "      <td>0</td>\n",
              "      <td>0</td>\n",
              "      <td>0</td>\n",
              "      <td>0</td>\n",
              "      <td>0</td>\n",
              "      <td>0</td>\n",
              "      <td>0</td>\n",
              "      <td>0</td>\n",
              "      <td>0</td>\n",
              "      <td>0</td>\n",
              "      <td>0</td>\n",
              "      <td>0</td>\n",
              "      <td>0</td>\n",
              "      <td>0</td>\n",
              "      <td>0</td>\n",
              "      <td>0</td>\n",
              "      <td>0</td>\n",
              "      <td>0</td>\n",
              "      <td>0</td>\n",
              "      <td>0</td>\n",
              "      <td>0</td>\n",
              "      <td>0</td>\n",
              "      <td>0</td>\n",
              "      <td>0</td>\n",
              "      <td>0</td>\n",
              "      <td>0</td>\n",
              "      <td>0</td>\n",
              "      <td>...</td>\n",
              "      <td>147</td>\n",
              "      <td>252</td>\n",
              "      <td>42</td>\n",
              "      <td>0</td>\n",
              "      <td>0</td>\n",
              "      <td>0</td>\n",
              "      <td>0</td>\n",
              "      <td>0</td>\n",
              "      <td>0</td>\n",
              "      <td>0</td>\n",
              "      <td>0</td>\n",
              "      <td>0</td>\n",
              "      <td>0</td>\n",
              "      <td>0</td>\n",
              "      <td>0</td>\n",
              "      <td>0</td>\n",
              "      <td>0</td>\n",
              "      <td>0</td>\n",
              "      <td>0</td>\n",
              "      <td>0</td>\n",
              "      <td>0</td>\n",
              "      <td>0</td>\n",
              "      <td>0</td>\n",
              "      <td>0</td>\n",
              "      <td>0</td>\n",
              "      <td>0</td>\n",
              "      <td>0</td>\n",
              "      <td>0</td>\n",
              "      <td>0</td>\n",
              "      <td>0</td>\n",
              "      <td>0</td>\n",
              "      <td>0</td>\n",
              "      <td>0</td>\n",
              "      <td>0</td>\n",
              "      <td>0</td>\n",
              "      <td>0</td>\n",
              "      <td>0</td>\n",
              "      <td>0</td>\n",
              "      <td>0</td>\n",
              "      <td>0</td>\n",
              "    </tr>\n",
              "  </tbody>\n",
              "</table>\n",
              "<p>5 rows × 784 columns</p>\n",
              "</div>"
            ],
            "text/plain": [
              "   1x1  1x2  1x3  1x4  1x5  1x6  ...  28x23  28x24  28x25  28x26  28x27  28x28\n",
              "0    0    0    0    0    0    0  ...      0      0      0      0      0      0\n",
              "1    0    0    0    0    0    0  ...      0      0      0      0      0      0\n",
              "2    0    0    0    0    0    0  ...      0      0      0      0      0      0\n",
              "3    0    0    0    0    0    0  ...      0      0      0      0      0      0\n",
              "4    0    0    0    0    0    0  ...      0      0      0      0      0      0\n",
              "\n",
              "[5 rows x 784 columns]"
            ]
          },
          "metadata": {
            "tags": []
          },
          "execution_count": 14
        }
      ]
    },
    {
      "cell_type": "code",
      "metadata": {
        "id": "i52r5twnIy0J",
        "colab_type": "code",
        "outputId": "b1bc933f-48ee-491d-80bf-3edc959b9265",
        "colab": {
          "base_uri": "https://localhost:8080/",
          "height": 126
        }
      },
      "source": [
        "mnist_train_target.head()"
      ],
      "execution_count": 0,
      "outputs": [
        {
          "output_type": "execute_result",
          "data": {
            "text/plain": [
              "0    5\n",
              "1    0\n",
              "2    4\n",
              "3    1\n",
              "4    9\n",
              "Name: label, dtype: int64"
            ]
          },
          "metadata": {
            "tags": []
          },
          "execution_count": 15
        }
      ]
    },
    {
      "cell_type": "code",
      "metadata": {
        "id": "MTo4Gj7yLeI5",
        "colab_type": "code",
        "outputId": "878a05bb-9158-4983-d5bf-20137894e025",
        "colab": {
          "base_uri": "https://localhost:8080/",
          "height": 90
        }
      },
      "source": [
        "print(\"train max - \", mnist_train.values.max())\n",
        "print(\"train min -\", mnist_train.values.min())\n",
        "print(\"test max - \", mnist_test.values.max())\n",
        "print(\"test min -\", mnist_test.values.min())"
      ],
      "execution_count": 0,
      "outputs": [
        {
          "output_type": "stream",
          "text": [
            "train max -  255\n",
            "train min - 0\n",
            "test max -  255\n",
            "test min - 0\n"
          ],
          "name": "stdout"
        }
      ]
    },
    {
      "cell_type": "markdown",
      "metadata": {
        "id": "ml7NzRwXMO4G",
        "colab_type": "text"
      },
      "source": [
        "Converting our train and test data to float for better performance of of model"
      ]
    },
    {
      "cell_type": "code",
      "metadata": {
        "id": "GJAVOjlKMMD0",
        "colab_type": "code",
        "colab": {}
      },
      "source": [
        "mnist_train = mnist_train.astype('float32')\n",
        "\n",
        "mnist_train = mnist_train/255"
      ],
      "execution_count": 0,
      "outputs": []
    },
    {
      "cell_type": "code",
      "metadata": {
        "id": "2tqWqlV1MahU",
        "colab_type": "code",
        "colab": {}
      },
      "source": [
        "mnist_test = mnist_test.astype('float32')\n",
        "\n",
        "mnist_test = mnist_test/255"
      ],
      "execution_count": 0,
      "outputs": []
    },
    {
      "cell_type": "code",
      "metadata": {
        "id": "ZmWJdn9cM0UX",
        "colab_type": "code",
        "outputId": "46cfeab2-4de6-4015-d53f-72ff2e2c745a",
        "colab": {
          "base_uri": "https://localhost:8080/",
          "height": 90
        }
      },
      "source": [
        "print(\"train max - \", mnist_train.values.max())\n",
        "print(\"train min -\", mnist_train.values.min())\n",
        "print(\"test max - \", mnist_test.values.max())\n",
        "print(\"test min -\", mnist_test.values.min())"
      ],
      "execution_count": 0,
      "outputs": [
        {
          "output_type": "stream",
          "text": [
            "train max -  1.0\n",
            "train min - 0.0\n",
            "test max -  1.0\n",
            "test min - 0.0\n"
          ],
          "name": "stdout"
        }
      ]
    },
    {
      "cell_type": "code",
      "metadata": {
        "id": "Hv_YvuJVOH2I",
        "colab_type": "code",
        "colab": {}
      },
      "source": [
        "import torch"
      ],
      "execution_count": 0,
      "outputs": []
    },
    {
      "cell_type": "code",
      "metadata": {
        "id": "XtfahiCdM3sa",
        "colab_type": "code",
        "colab": {}
      },
      "source": [
        "X_train_tensor = torch.tensor(mnist_train_features.values, dtype = torch.float)\n",
        "X_test_tensor = torch.tensor(mnist_test_features.values, dtype = torch.float)\n",
        "\n",
        "Y_train_tensor = torch.tensor(mnist_train_target.values, dtype = torch.long)\n",
        "Y_test_tensor = torch.tensor(mnist_test_target.values, dtype = torch.long)"
      ],
      "execution_count": 0,
      "outputs": []
    },
    {
      "cell_type": "code",
      "metadata": {
        "id": "M4_QB1C1OKXK",
        "colab_type": "code",
        "outputId": "18de180e-cb39-4139-c2f7-796d685b8a7f",
        "colab": {
          "base_uri": "https://localhost:8080/",
          "height": 35
        }
      },
      "source": [
        "X_train_tensor.shape, Y_train_tensor.shape"
      ],
      "execution_count": 0,
      "outputs": [
        {
          "output_type": "execute_result",
          "data": {
            "text/plain": [
              "(torch.Size([60000, 784]), torch.Size([60000]))"
            ]
          },
          "metadata": {
            "tags": []
          },
          "execution_count": 22
        }
      ]
    },
    {
      "cell_type": "code",
      "metadata": {
        "id": "DUQdrXS0Op_j",
        "colab_type": "code",
        "outputId": "a2c28a49-148a-4636-f1bd-42432b5c6114",
        "colab": {
          "base_uri": "https://localhost:8080/",
          "height": 35
        }
      },
      "source": [
        "X_test_tensor.shape, Y_test_tensor.shape"
      ],
      "execution_count": 0,
      "outputs": [
        {
          "output_type": "execute_result",
          "data": {
            "text/plain": [
              "(torch.Size([10000, 784]), torch.Size([10000]))"
            ]
          },
          "metadata": {
            "tags": []
          },
          "execution_count": 23
        }
      ]
    },
    {
      "cell_type": "code",
      "metadata": {
        "id": "rIrqryvqO7Vk",
        "colab_type": "code",
        "colab": {}
      },
      "source": [
        "import torch.nn as nn"
      ],
      "execution_count": 0,
      "outputs": []
    },
    {
      "cell_type": "code",
      "metadata": {
        "id": "T0dOaCwUQspD",
        "colab_type": "code",
        "colab": {}
      },
      "source": [
        "input_size = 784\n",
        "output_size = 10\n",
        "\n",
        "hidden_size1 = 16\n",
        "hidden_size2 = 32"
      ],
      "execution_count": 0,
      "outputs": []
    },
    {
      "cell_type": "code",
      "metadata": {
        "id": "8Nb1iKECQ7c2",
        "colab_type": "code",
        "colab": {}
      },
      "source": [
        "class Net(nn.Module):\n",
        "\n",
        "  def __init__(self):\n",
        "\n",
        "    super(Net, self).__init__()\n",
        "    self.fc1 = nn.Linear(input_size, hidden_size1)\n",
        "    self.fc2 = nn.Linear(hidden_size1, hidden_size2)\n",
        "    self.fc3 = nn.Linear(hidden_size2, output_size)\n",
        "\n",
        "  def forward(self, x):\n",
        "    x = torch.sigmoid(self.fc1(x))\n",
        "    x = torch.sigmoid(self.fc2(x))\n",
        "\n",
        "    x = self.fc3(x)\n",
        "\n",
        "    return torch.log_softmax(x, dim = -1)\n",
        "\n"
      ],
      "execution_count": 0,
      "outputs": []
    },
    {
      "cell_type": "code",
      "metadata": {
        "id": "yJ2zqsleSIhp",
        "colab_type": "code",
        "colab": {}
      },
      "source": [
        "model = Net()"
      ],
      "execution_count": 0,
      "outputs": []
    },
    {
      "cell_type": "code",
      "metadata": {
        "id": "FcEqc05OSLLJ",
        "colab_type": "code",
        "outputId": "69deda54-d445-4afa-fbe8-f80a140b3a75",
        "colab": {
          "base_uri": "https://localhost:8080/",
          "height": 35
        }
      },
      "source": [
        "device = torch.device(\"cuda: 0\" if torch.cuda.is_available() else\n",
        "                      \"cpu\")\n",
        "\n",
        "device"
      ],
      "execution_count": 0,
      "outputs": [
        {
          "output_type": "execute_result",
          "data": {
            "text/plain": [
              "device(type='cuda', index=0)"
            ]
          },
          "metadata": {
            "tags": []
          },
          "execution_count": 28
        }
      ]
    },
    {
      "cell_type": "code",
      "metadata": {
        "id": "2Cc8TWlVSfxt",
        "colab_type": "code",
        "outputId": "1b3bba1f-31f2-44b8-abc8-65ed85fa6dce",
        "colab": {
          "base_uri": "https://localhost:8080/",
          "height": 108
        }
      },
      "source": [
        "model.to(device)"
      ],
      "execution_count": 0,
      "outputs": [
        {
          "output_type": "execute_result",
          "data": {
            "text/plain": [
              "Net(\n",
              "  (fc1): Linear(in_features=784, out_features=16, bias=True)\n",
              "  (fc2): Linear(in_features=16, out_features=32, bias=True)\n",
              "  (fc3): Linear(in_features=32, out_features=10, bias=True)\n",
              ")"
            ]
          },
          "metadata": {
            "tags": []
          },
          "execution_count": 29
        }
      ]
    },
    {
      "cell_type": "code",
      "metadata": {
        "id": "mkRETHoDTsHe",
        "colab_type": "code",
        "colab": {}
      },
      "source": [
        "X_train_tensor = X_train_tensor.to(device)"
      ],
      "execution_count": 0,
      "outputs": []
    },
    {
      "cell_type": "code",
      "metadata": {
        "id": "voGqD0bJT19f",
        "colab_type": "code",
        "colab": {}
      },
      "source": [
        "X_test_tensor  = X_test_tensor.to(device) \n",
        "\n",
        "Y_train_tensor = Y_train_tensor.to(device)\n",
        "Y_test_tensor  = Y_test_tensor.to(device)"
      ],
      "execution_count": 0,
      "outputs": []
    },
    {
      "cell_type": "code",
      "metadata": {
        "id": "83JGkkvGT-R6",
        "colab_type": "code",
        "colab": {}
      },
      "source": [
        "import torch.optim as optim\n",
        "optimizer = optim.SGD(model.parameters(), lr=0.01, momentum=0.9)\n",
        "\n",
        "loss_fn = nn.NLLLoss()"
      ],
      "execution_count": 0,
      "outputs": []
    },
    {
      "cell_type": "code",
      "metadata": {
        "id": "MBjdc9myUUvN",
        "colab_type": "code",
        "outputId": "aaea23f8-cd38-4e1c-93bf-adfb30518474",
        "colab": {
          "base_uri": "https://localhost:8080/",
          "height": 1000
        }
      },
      "source": [
        "epoch = 2500\n",
        "\n",
        "for epoch in range(1, epoch + 1):\n",
        "\n",
        "  optimizer.zero_grad()\n",
        "  Y_pred = model(X_train_tensor)\n",
        "\n",
        "  loss = loss_fn(Y_pred, Y_train_tensor)\n",
        "  loss.backward()\n",
        "\n",
        "  optimizer.step()\n",
        "\n",
        "  if epoch % 10 == 0:\n",
        "\n",
        "    print(\"Epoch --> %d, loss --> %0.2f\" %(epoch, loss.item()))"
      ],
      "execution_count": 0,
      "outputs": [
        {
          "output_type": "stream",
          "text": [
            "Epoch --> 10, loss --> 2.31\n",
            "Epoch --> 20, loss --> 2.28\n",
            "Epoch --> 30, loss --> 2.26\n",
            "Epoch --> 40, loss --> 2.25\n",
            "Epoch --> 50, loss --> 2.24\n",
            "Epoch --> 60, loss --> 2.22\n",
            "Epoch --> 70, loss --> 2.21\n",
            "Epoch --> 80, loss --> 2.20\n",
            "Epoch --> 90, loss --> 2.19\n",
            "Epoch --> 100, loss --> 2.17\n",
            "Epoch --> 110, loss --> 2.15\n",
            "Epoch --> 120, loss --> 2.14\n",
            "Epoch --> 130, loss --> 2.12\n",
            "Epoch --> 140, loss --> 2.10\n",
            "Epoch --> 150, loss --> 2.08\n",
            "Epoch --> 160, loss --> 2.06\n",
            "Epoch --> 170, loss --> 2.03\n",
            "Epoch --> 180, loss --> 2.01\n",
            "Epoch --> 190, loss --> 1.98\n",
            "Epoch --> 200, loss --> 1.95\n",
            "Epoch --> 210, loss --> 1.92\n",
            "Epoch --> 220, loss --> 1.89\n",
            "Epoch --> 230, loss --> 1.86\n",
            "Epoch --> 240, loss --> 1.83\n",
            "Epoch --> 250, loss --> 1.80\n",
            "Epoch --> 260, loss --> 1.77\n",
            "Epoch --> 270, loss --> 1.73\n",
            "Epoch --> 280, loss --> 1.70\n",
            "Epoch --> 290, loss --> 1.67\n",
            "Epoch --> 300, loss --> 1.63\n",
            "Epoch --> 310, loss --> 1.60\n",
            "Epoch --> 320, loss --> 1.57\n",
            "Epoch --> 330, loss --> 1.54\n",
            "Epoch --> 340, loss --> 1.51\n",
            "Epoch --> 350, loss --> 1.48\n",
            "Epoch --> 360, loss --> 1.45\n",
            "Epoch --> 370, loss --> 1.42\n",
            "Epoch --> 380, loss --> 1.39\n",
            "Epoch --> 390, loss --> 1.36\n",
            "Epoch --> 400, loss --> 1.33\n",
            "Epoch --> 410, loss --> 1.31\n",
            "Epoch --> 420, loss --> 1.28\n",
            "Epoch --> 430, loss --> 1.26\n",
            "Epoch --> 440, loss --> 1.23\n",
            "Epoch --> 450, loss --> 1.21\n",
            "Epoch --> 460, loss --> 1.19\n",
            "Epoch --> 470, loss --> 1.16\n",
            "Epoch --> 480, loss --> 1.14\n",
            "Epoch --> 490, loss --> 1.12\n",
            "Epoch --> 500, loss --> 1.10\n",
            "Epoch --> 510, loss --> 1.08\n",
            "Epoch --> 520, loss --> 1.06\n",
            "Epoch --> 530, loss --> 1.04\n",
            "Epoch --> 540, loss --> 1.02\n",
            "Epoch --> 550, loss --> 1.00\n",
            "Epoch --> 560, loss --> 0.99\n",
            "Epoch --> 570, loss --> 0.97\n",
            "Epoch --> 580, loss --> 0.95\n",
            "Epoch --> 590, loss --> 0.94\n",
            "Epoch --> 600, loss --> 0.92\n",
            "Epoch --> 610, loss --> 0.90\n",
            "Epoch --> 620, loss --> 0.89\n",
            "Epoch --> 630, loss --> 0.87\n",
            "Epoch --> 640, loss --> 0.86\n",
            "Epoch --> 650, loss --> 0.85\n",
            "Epoch --> 660, loss --> 0.83\n",
            "Epoch --> 670, loss --> 0.81\n",
            "Epoch --> 680, loss --> 0.80\n",
            "Epoch --> 690, loss --> 0.79\n",
            "Epoch --> 700, loss --> 0.77\n",
            "Epoch --> 710, loss --> 0.76\n",
            "Epoch --> 720, loss --> 0.75\n",
            "Epoch --> 730, loss --> 0.74\n",
            "Epoch --> 740, loss --> 0.73\n",
            "Epoch --> 750, loss --> 0.72\n",
            "Epoch --> 760, loss --> 0.71\n",
            "Epoch --> 770, loss --> 0.70\n",
            "Epoch --> 780, loss --> 0.69\n",
            "Epoch --> 790, loss --> 0.68\n",
            "Epoch --> 800, loss --> 0.67\n",
            "Epoch --> 810, loss --> 0.66\n",
            "Epoch --> 820, loss --> 0.65\n",
            "Epoch --> 830, loss --> 0.64\n",
            "Epoch --> 840, loss --> 0.63\n",
            "Epoch --> 850, loss --> 0.63\n",
            "Epoch --> 860, loss --> 0.62\n",
            "Epoch --> 870, loss --> 0.61\n",
            "Epoch --> 880, loss --> 0.61\n",
            "Epoch --> 890, loss --> 0.60\n",
            "Epoch --> 900, loss --> 0.59\n",
            "Epoch --> 910, loss --> 0.58\n",
            "Epoch --> 920, loss --> 0.57\n",
            "Epoch --> 930, loss --> 0.57\n",
            "Epoch --> 940, loss --> 0.57\n",
            "Epoch --> 950, loss --> 0.56\n",
            "Epoch --> 960, loss --> 0.55\n",
            "Epoch --> 970, loss --> 0.55\n",
            "Epoch --> 980, loss --> 0.54\n",
            "Epoch --> 990, loss --> 0.53\n",
            "Epoch --> 1000, loss --> 0.53\n",
            "Epoch --> 1010, loss --> 0.53\n",
            "Epoch --> 1020, loss --> 0.51\n",
            "Epoch --> 1030, loss --> 0.51\n",
            "Epoch --> 1040, loss --> 0.51\n",
            "Epoch --> 1050, loss --> 0.50\n",
            "Epoch --> 1060, loss --> 0.49\n",
            "Epoch --> 1070, loss --> 0.49\n",
            "Epoch --> 1080, loss --> 0.49\n",
            "Epoch --> 1090, loss --> 0.49\n",
            "Epoch --> 1100, loss --> 0.48\n",
            "Epoch --> 1110, loss --> 0.47\n",
            "Epoch --> 1120, loss --> 0.47\n",
            "Epoch --> 1130, loss --> 0.47\n",
            "Epoch --> 1140, loss --> 0.46\n",
            "Epoch --> 1150, loss --> 0.45\n",
            "Epoch --> 1160, loss --> 0.45\n",
            "Epoch --> 1170, loss --> 0.45\n",
            "Epoch --> 1180, loss --> 0.45\n",
            "Epoch --> 1190, loss --> 0.44\n",
            "Epoch --> 1200, loss --> 0.44\n",
            "Epoch --> 1210, loss --> 0.44\n",
            "Epoch --> 1220, loss --> 0.43\n",
            "Epoch --> 1230, loss --> 0.44\n",
            "Epoch --> 1240, loss --> 0.43\n",
            "Epoch --> 1250, loss --> 0.42\n",
            "Epoch --> 1260, loss --> 0.42\n",
            "Epoch --> 1270, loss --> 0.41\n",
            "Epoch --> 1280, loss --> 0.42\n",
            "Epoch --> 1290, loss --> 0.41\n",
            "Epoch --> 1300, loss --> 0.41\n",
            "Epoch --> 1310, loss --> 0.40\n",
            "Epoch --> 1320, loss --> 0.40\n",
            "Epoch --> 1330, loss --> 0.39\n",
            "Epoch --> 1340, loss --> 0.40\n",
            "Epoch --> 1350, loss --> 0.39\n",
            "Epoch --> 1360, loss --> 0.39\n",
            "Epoch --> 1370, loss --> 0.39\n",
            "Epoch --> 1380, loss --> 0.39\n",
            "Epoch --> 1390, loss --> 0.38\n",
            "Epoch --> 1400, loss --> 0.38\n",
            "Epoch --> 1410, loss --> 0.38\n",
            "Epoch --> 1420, loss --> 0.38\n",
            "Epoch --> 1430, loss --> 0.38\n",
            "Epoch --> 1440, loss --> 0.38\n",
            "Epoch --> 1450, loss --> 0.37\n",
            "Epoch --> 1460, loss --> 0.37\n",
            "Epoch --> 1470, loss --> 0.36\n",
            "Epoch --> 1480, loss --> 0.37\n",
            "Epoch --> 1490, loss --> 0.36\n",
            "Epoch --> 1500, loss --> 0.36\n",
            "Epoch --> 1510, loss --> 0.36\n",
            "Epoch --> 1520, loss --> 0.36\n",
            "Epoch --> 1530, loss --> 0.36\n",
            "Epoch --> 1540, loss --> 0.36\n",
            "Epoch --> 1550, loss --> 0.36\n",
            "Epoch --> 1560, loss --> 0.34\n",
            "Epoch --> 1570, loss --> 0.35\n",
            "Epoch --> 1580, loss --> 0.34\n",
            "Epoch --> 1590, loss --> 0.34\n",
            "Epoch --> 1600, loss --> 0.34\n",
            "Epoch --> 1610, loss --> 0.34\n",
            "Epoch --> 1620, loss --> 0.37\n",
            "Epoch --> 1630, loss --> 0.35\n",
            "Epoch --> 1640, loss --> 0.34\n",
            "Epoch --> 1650, loss --> 0.33\n",
            "Epoch --> 1660, loss --> 0.33\n",
            "Epoch --> 1670, loss --> 0.33\n",
            "Epoch --> 1680, loss --> 0.33\n",
            "Epoch --> 1690, loss --> 0.32\n",
            "Epoch --> 1700, loss --> 0.32\n",
            "Epoch --> 1710, loss --> 0.33\n",
            "Epoch --> 1720, loss --> 0.33\n",
            "Epoch --> 1730, loss --> 0.32\n",
            "Epoch --> 1740, loss --> 0.33\n",
            "Epoch --> 1750, loss --> 0.32\n",
            "Epoch --> 1760, loss --> 0.32\n",
            "Epoch --> 1770, loss --> 0.32\n",
            "Epoch --> 1780, loss --> 0.32\n",
            "Epoch --> 1790, loss --> 0.32\n",
            "Epoch --> 1800, loss --> 0.32\n",
            "Epoch --> 1810, loss --> 0.32\n",
            "Epoch --> 1820, loss --> 0.31\n",
            "Epoch --> 1830, loss --> 0.32\n",
            "Epoch --> 1840, loss --> 0.32\n",
            "Epoch --> 1850, loss --> 0.32\n",
            "Epoch --> 1860, loss --> 0.32\n",
            "Epoch --> 1870, loss --> 0.31\n",
            "Epoch --> 1880, loss --> 0.30\n",
            "Epoch --> 1890, loss --> 0.30\n",
            "Epoch --> 1900, loss --> 0.31\n",
            "Epoch --> 1910, loss --> 0.30\n",
            "Epoch --> 1920, loss --> 0.31\n",
            "Epoch --> 1930, loss --> 0.31\n",
            "Epoch --> 1940, loss --> 0.31\n",
            "Epoch --> 1950, loss --> 0.31\n",
            "Epoch --> 1960, loss --> 0.30\n",
            "Epoch --> 1970, loss --> 0.30\n",
            "Epoch --> 1980, loss --> 0.29\n",
            "Epoch --> 1990, loss --> 0.29\n",
            "Epoch --> 2000, loss --> 0.29\n",
            "Epoch --> 2010, loss --> 0.29\n",
            "Epoch --> 2020, loss --> 0.30\n",
            "Epoch --> 2030, loss --> 0.29\n",
            "Epoch --> 2040, loss --> 0.30\n",
            "Epoch --> 2050, loss --> 0.29\n",
            "Epoch --> 2060, loss --> 0.29\n",
            "Epoch --> 2070, loss --> 0.29\n",
            "Epoch --> 2080, loss --> 0.29\n",
            "Epoch --> 2090, loss --> 0.29\n",
            "Epoch --> 2100, loss --> 0.28\n",
            "Epoch --> 2110, loss --> 0.30\n",
            "Epoch --> 2120, loss --> 0.29\n",
            "Epoch --> 2130, loss --> 0.29\n",
            "Epoch --> 2140, loss --> 0.28\n",
            "Epoch --> 2150, loss --> 0.28\n",
            "Epoch --> 2160, loss --> 0.28\n",
            "Epoch --> 2170, loss --> 0.27\n",
            "Epoch --> 2180, loss --> 0.28\n",
            "Epoch --> 2190, loss --> 0.28\n",
            "Epoch --> 2200, loss --> 0.28\n",
            "Epoch --> 2210, loss --> 0.28\n",
            "Epoch --> 2220, loss --> 0.28\n",
            "Epoch --> 2230, loss --> 0.27\n",
            "Epoch --> 2240, loss --> 0.27\n",
            "Epoch --> 2250, loss --> 0.27\n",
            "Epoch --> 2260, loss --> 0.27\n",
            "Epoch --> 2270, loss --> 0.28\n",
            "Epoch --> 2280, loss --> 0.28\n",
            "Epoch --> 2290, loss --> 0.27\n",
            "Epoch --> 2300, loss --> 0.27\n",
            "Epoch --> 2310, loss --> 0.27\n",
            "Epoch --> 2320, loss --> 0.27\n",
            "Epoch --> 2330, loss --> 0.27\n",
            "Epoch --> 2340, loss --> 0.27\n",
            "Epoch --> 2350, loss --> 0.27\n",
            "Epoch --> 2360, loss --> 0.27\n",
            "Epoch --> 2370, loss --> 0.26\n",
            "Epoch --> 2380, loss --> 0.26\n",
            "Epoch --> 2390, loss --> 0.26\n",
            "Epoch --> 2400, loss --> 0.26\n",
            "Epoch --> 2410, loss --> 0.26\n",
            "Epoch --> 2420, loss --> 0.27\n",
            "Epoch --> 2430, loss --> 0.27\n",
            "Epoch --> 2440, loss --> 0.26\n",
            "Epoch --> 2450, loss --> 0.26\n",
            "Epoch --> 2460, loss --> 0.27\n",
            "Epoch --> 2470, loss --> 0.26\n",
            "Epoch --> 2480, loss --> 0.26\n",
            "Epoch --> 2490, loss --> 0.26\n",
            "Epoch --> 2500, loss --> 0.26\n"
          ],
          "name": "stdout"
        }
      ]
    },
    {
      "cell_type": "code",
      "metadata": {
        "id": "INgqHD0_Xyv-",
        "colab_type": "code",
        "colab": {}
      },
      "source": [
        "from sklearn.metrics import accuracy_score, precision_score, recall_score"
      ],
      "execution_count": 0,
      "outputs": []
    },
    {
      "cell_type": "code",
      "metadata": {
        "id": "BGVzR9CJWK9U",
        "colab_type": "code",
        "outputId": "98f3d116-70d0-4c7c-e9b9-95ad59671ad8",
        "colab": {
          "base_uri": "https://localhost:8080/",
          "height": 72
        }
      },
      "source": [
        "with torch.no_grad():\n",
        "  correct = 0\n",
        "  total = 0\n",
        "\n",
        "  output = model(X_test_tensor)\n",
        "  _, predicted = torch.max(output.data, 1)\n",
        "\n",
        "  y_test = Y_test_tensor.cpu().numpy()\n",
        "  predicted = predicted.cpu()\n",
        "\n",
        "  print(\"Accuracy: \", accuracy_score(predicted, y_test))\n",
        "  print(\"Precision: \", precision_score(predicted, y_test, average = 'weighted'))\n",
        "  print(\"Recall: \", recall_score(predicted, y_test, average= 'weighted'))"
      ],
      "execution_count": 0,
      "outputs": [
        {
          "output_type": "stream",
          "text": [
            "Accuracy:  0.8981\n",
            "Precision:  0.8990097927332829\n",
            "Recall:  0.8981\n"
          ],
          "name": "stdout"
        }
      ]
    },
    {
      "cell_type": "code",
      "metadata": {
        "id": "QityLcjhY16O",
        "colab_type": "code",
        "outputId": "50cd2d27-4267-4a47-d792-ed5f45c3a843",
        "colab": {
          "base_uri": "https://localhost:8080/",
          "height": 35
        }
      },
      "source": [
        "print(\"Sample target data -->\", mnist_test_target.values[1005])"
      ],
      "execution_count": 0,
      "outputs": [
        {
          "output_type": "stream",
          "text": [
            "Sample target data --> 9\n"
          ],
          "name": "stdout"
        }
      ]
    },
    {
      "cell_type": "code",
      "metadata": {
        "id": "5534UvyCZEVp",
        "colab_type": "code",
        "outputId": "dd79343e-d912-4869-adc0-b011d3e59e9b",
        "colab": {
          "base_uri": "https://localhost:8080/",
          "height": 392
        }
      },
      "source": [
        "sample_img = mnist_test_features.values[1005]\n",
        "sample_img = sample_img.reshape(1, 28, 28)\n",
        "\n",
        "sample_img = sample_img[0, :, :]\n",
        "\n",
        "plt.figure(figsize = (6, 6))\n",
        "plt.imshow(sample_img)"
      ],
      "execution_count": 0,
      "outputs": [
        {
          "output_type": "execute_result",
          "data": {
            "text/plain": [
              "<matplotlib.image.AxesImage at 0x7f8d986dd6a0>"
            ]
          },
          "metadata": {
            "tags": []
          },
          "execution_count": 37
        },
        {
          "output_type": "display_data",
          "data": {
            "image/png": "[encoded data removed]",
            "text/plain": [
              "<Figure size 432x432 with 1 Axes>"
            ]
          },
          "metadata": {
            "tags": [],
            "needs_background": "light"
          }
        }
      ]
    },
    {
      "cell_type": "code",
      "metadata": {
        "id": "IBhqMWW7ZrwT",
        "colab_type": "code",
        "colab": {}
      },
      "source": [
        "sample = np.array(mnist_test_features.values[1005])\n",
        "\n",
        "sample_tensor = torch.from_numpy(sample).float()"
      ],
      "execution_count": 0,
      "outputs": []
    },
    {
      "cell_type": "code",
      "metadata": {
        "id": "FAryZXppZr1K",
        "colab_type": "code",
        "outputId": "245e7e7f-7590-4559-e9f6-9e8d25b4cb05",
        "colab": {
          "base_uri": "https://localhost:8080/",
          "height": 72
        }
      },
      "source": [
        "y_pred = model(sample_tensor.to(device))\n",
        "y_pred"
      ],
      "execution_count": 0,
      "outputs": [
        {
          "output_type": "execute_result",
          "data": {
            "text/plain": [
              "tensor([ -8.5742,  -5.5103,  -7.1500,  -5.2988,  -4.4059,  -9.0276, -10.8709,\n",
              "         -2.9312,  -5.5557,  -0.0829], device='cuda:0',\n",
              "       grad_fn=<LogSoftmaxBackward>)"
            ]
          },
          "metadata": {
            "tags": []
          },
          "execution_count": 39
        }
      ]
    },
    {
      "cell_type": "code",
      "metadata": {
        "id": "TT4vbbwIaIXU",
        "colab_type": "code",
        "colab": {}
      },
      "source": [
        "_, predicted = torch.max(y_pred.data, -1)"
      ],
      "execution_count": 0,
      "outputs": []
    },
    {
      "cell_type": "code",
      "metadata": {
        "id": "JHE2UdQPeIM9",
        "colab_type": "code",
        "outputId": "c5bd6297-06f3-4ea3-dbf9-f1a27a60785b",
        "colab": {
          "base_uri": "https://localhost:8080/",
          "height": 35
        }
      },
      "source": [
        "print (\" The predicted label is : \", predicted.item())"
      ],
      "execution_count": 0,
      "outputs": [
        {
          "output_type": "stream",
          "text": [
            " The predicted label is :  9\n"
          ],
          "name": "stdout"
        }
      ]
    },
    {
      "cell_type": "code",
      "metadata": {
        "id": "645RZvONePJL",
        "colab_type": "code",
        "outputId": "ed690710-5e6f-4eb4-be29-7b24595d22c3",
        "colab": {
          "base_uri": "https://localhost:8080/",
          "height": 35
        }
      },
      "source": [
        "print(\"Sample target data -->\", mnist_test_target.values[2001])"
      ],
      "execution_count": 0,
      "outputs": [
        {
          "output_type": "stream",
          "text": [
            "Sample target data --> 5\n"
          ],
          "name": "stdout"
        }
      ]
    },
    {
      "cell_type": "code",
      "metadata": {
        "id": "sQBGPPv7eXhu",
        "colab_type": "code",
        "outputId": "0931b6d5-50da-4204-b4a9-c7b1792c966b",
        "colab": {
          "base_uri": "https://localhost:8080/",
          "height": 392
        }
      },
      "source": [
        "sample_img = mnist_test_features.values[2001]\n",
        "sample_img = sample_img.reshape(1, 28, 28)\n",
        "\n",
        "sample_img = sample_img[0, :, :]\n",
        "\n",
        "plt.figure(figsize = (6, 6))\n",
        "plt.imshow(sample_img)"
      ],
      "execution_count": 0,
      "outputs": [
        {
          "output_type": "execute_result",
          "data": {
            "text/plain": [
              "<matplotlib.image.AxesImage at 0x7f8d98652f98>"
            ]
          },
          "metadata": {
            "tags": []
          },
          "execution_count": 43
        },
        {
          "output_type": "display_data",
          "data": {
            "image/png": "[encoded data removed]",
            "text/plain": [
              "<Figure size 432x432 with 1 Axes>"
            ]
          },
          "metadata": {
            "tags": [],
            "needs_background": "light"
          }
        }
      ]
    },
    {
      "cell_type": "code",
      "metadata": {
        "id": "jDA3hMY7ei3y",
        "colab_type": "code",
        "colab": {}
      },
      "source": [
        "sample = np.array(mnist_test_features.values[2001])\n",
        "\n",
        "sample_tensor = torch.from_numpy(sample).float()"
      ],
      "execution_count": 0,
      "outputs": []
    },
    {
      "cell_type": "code",
      "metadata": {
        "id": "aAldnBWveyXv",
        "colab_type": "code",
        "outputId": "125c7fbb-bf60-4d3e-bbdc-875e28466811",
        "colab": {
          "base_uri": "https://localhost:8080/",
          "height": 54
        }
      },
      "source": [
        "y_pred = model(sample_tensor.to(device))\n",
        "y_pred"
      ],
      "execution_count": 0,
      "outputs": [
        {
          "output_type": "execute_result",
          "data": {
            "text/plain": [
              "tensor([-1.7212, -8.5890, -6.4144, -4.1128, -4.7529, -1.8729, -5.5625, -5.9684,\n",
              "        -0.5339, -3.0375], device='cuda:0', grad_fn=<LogSoftmaxBackward>)"
            ]
          },
          "metadata": {
            "tags": []
          },
          "execution_count": 45
        }
      ]
    },
    {
      "cell_type": "code",
      "metadata": {
        "id": "tWSkW6b1e4Tr",
        "colab_type": "code",
        "colab": {}
      },
      "source": [
        "_, predicted = torch.max(y_pred.data, -1)"
      ],
      "execution_count": 0,
      "outputs": []
    },
    {
      "cell_type": "code",
      "metadata": {
        "id": "Llj88dl-e_k7",
        "colab_type": "code",
        "outputId": "e219521b-83fe-4bac-ceb6-352f7cedd48a",
        "colab": {
          "base_uri": "https://localhost:8080/",
          "height": 35
        }
      },
      "source": [
        "print (\" The predicted label is : \", predicted.item())"
      ],
      "execution_count": 0,
      "outputs": [
        {
          "output_type": "stream",
          "text": [
            " The predicted label is :  8\n"
          ],
          "name": "stdout"
        }
      ]
    }
  ]
}